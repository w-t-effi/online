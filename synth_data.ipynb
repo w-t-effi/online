{
 "cells": [
  {
   "cell_type": "code",
   "execution_count": 1,
   "metadata": {},
   "outputs": [],
   "source": [
    "import pandas as pd\n",
    "from sklearn.preprocessing import MinMaxScaler\n",
    "from skmultiflow.data import ConceptDriftStream, \\\n",
    "    AGRAWALGenerator, \\\n",
    "    HyperplaneGenerator, \\\n",
    "    SEAGenerator"
   ]
  },
  {
   "cell_type": "code",
   "execution_count": 2,
   "metadata": {},
   "outputs": [],
   "source": [
    "def scale_and_save(x, y, name):  # normalize and save the data being provided\n",
    "    data = pd.DataFrame(MinMaxScaler().fit_transform(x.copy()))  # normalize data\n",
    "    data['class'] = y.astype(int)\n",
    "    \n",
    "    data.to_csv('data/synthetic/'+name+'.csv', index=False, header=False)"
   ]
  },
  {
   "cell_type": "markdown",
   "metadata": {},
   "source": [
    "## SEA Generator (Sudden Drift)\n",
    "250.000 instances, 3 features, Drift @ 50.000,100.000,200.000 observations"
   ]
  },
  {
   "cell_type": "code",
   "execution_count": 3,
   "metadata": {},
   "outputs": [
    {
     "name": "stderr",
     "output_type": "stream",
     "text": [
      "C:\\Users\\Effi\\Anaconda3\\envs\\online\\lib\\site-packages\\skmultiflow\\data\\base_stream.py:191: FutureWarning: 'prepare_for_use' has been deprecated in v0.5.0 and will be removed in v0.7.0.\n",
      "New instances of the Stream class are now ready to use after instantiation.\n",
      "  warnings.warn(\n",
      "C:\\Users\\Effi\\Anaconda3\\envs\\online\\lib\\site-packages\\skmultiflow\\data\\concept_drift_stream.py:153: RuntimeWarning: overflow encountered in exp\n",
      "  probability_drift = 1.0 / (1.0 + np.exp(x))\n"
     ]
    }
   ],
   "source": [
    "# Drift @ 200.000\n",
    "alternate2 = ConceptDriftStream(\n",
    "    stream=SEAGenerator(balance_classes=False, classification_function=2, random_state=112, noise_percentage=0.1),\n",
    "    drift_stream=SEAGenerator(balance_classes=False, classification_function=3, random_state=112, noise_percentage=0.1),\n",
    "    position=100000,\n",
    "    width=1,\n",
    "    random_state=0)\n",
    "\n",
    "# Drift @ 100.000\n",
    "alternate1 = ConceptDriftStream(\n",
    "    stream=SEAGenerator(balance_classes=False, classification_function=1, random_state=112, noise_percentage=0.1),\n",
    "    drift_stream=alternate2,\n",
    "    position=50000,\n",
    "    width=1,\n",
    "    random_state=0)\n",
    "\n",
    "# Drift @ 50.000\n",
    "stream = ConceptDriftStream(\n",
    "    stream=SEAGenerator(balance_classes=False, classification_function=0, random_state=112, noise_percentage=0.1),\n",
    "    drift_stream=alternate1,\n",
    "    position=50000,\n",
    "    width=1,\n",
    "    random_state=0)\n",
    "\n",
    "stream.prepare_for_use()\n",
    "x, y = stream.next_sample(250000)\n",
    "\n",
    "# Normalize and save data\n",
    "scale_and_save(x, y, 'sea')"
   ]
  },
  {
   "cell_type": "markdown",
   "metadata": {},
   "source": [
    "## Agrawal Generator (Gradual Drift)\n",
    "250.000 instances, 9 features, Drift @ 50.000-100.000, 150.000-200.000"
   ]
  },
  {
   "cell_type": "code",
   "execution_count": 4,
   "metadata": {},
   "outputs": [
    {
     "name": "stderr",
     "output_type": "stream",
     "text": [
      "C:\\Users\\Effi\\Anaconda3\\envs\\online\\lib\\site-packages\\skmultiflow\\data\\base_stream.py:191: FutureWarning: 'prepare_for_use' has been deprecated in v0.5.0 and will be removed in v0.7.0.\n",
      "New instances of the Stream class are now ready to use after instantiation.\n",
      "  warnings.warn(\n"
     ]
    }
   ],
   "source": [
    "# Drift @ 150.000-200.000\n",
    "alternate1 = ConceptDriftStream(\n",
    "    stream=AGRAWALGenerator(balance_classes=False, classification_function=1, random_state=112, perturbation=0.1),\n",
    "    drift_stream=AGRAWALGenerator(balance_classes=False, classification_function=2, random_state=112, perturbation=0.1),\n",
    "    position=50000,\n",
    "    width=50000,\n",
    "    random_state=0)\n",
    "\n",
    "# Drift @ 50.000-100.000\n",
    "stream = ConceptDriftStream(\n",
    "    stream=AGRAWALGenerator(balance_classes=False, classification_function=0, random_state=112, perturbation=0.1),\n",
    "    drift_stream=alternate1,\n",
    "    position=50000,\n",
    "    width=50000,\n",
    "    random_state=0)\n",
    "\n",
    "stream.prepare_for_use()\n",
    "x, y = stream.next_sample(250000)\n",
    "\n",
    "# Normalize and save data\n",
    "scale_and_save(x, y, 'agrawal')"
   ]
  },
  {
   "cell_type": "markdown",
   "metadata": {},
   "source": [
    "## Hyperplane Generator (Incremental Drift)\n",
    "250.000 instances, 50 features"
   ]
  },
  {
   "cell_type": "code",
   "execution_count": 5,
   "metadata": {
    "pycharm": {
     "name": "#%%\n"
    }
   },
   "outputs": [
    {
     "name": "stderr",
     "output_type": "stream",
     "text": [
      "C:\\Users\\Effi\\Anaconda3\\envs\\online\\lib\\site-packages\\skmultiflow\\data\\base_stream.py:191: FutureWarning: 'prepare_for_use' has been deprecated in v0.5.0 and will be removed in v0.7.0.\n",
      "New instances of the Stream class are now ready to use after instantiation.\n",
      "  warnings.warn(\n"
     ]
    }
   ],
   "source": [
    "stream = HyperplaneGenerator(random_state=112,\n",
    "                             n_features=50,\n",
    "                             n_drift_features=25,\n",
    "                             mag_change=0.5, \n",
    "                             noise_percentage=0.1,\n",
    "                             sigma_percentage=0.1)\n",
    "\n",
    "stream.prepare_for_use()\n",
    "\n",
    "x, y = stream.next_sample(250000)\n",
    "\n",
    "# Normalize and save data\n",
    "scale_and_save(x, y, 'hyperplane')"
   ]
  }
 ],
 "metadata": {
  "kernelspec": {
   "display_name": "Python 3",
   "language": "python",
   "name": "python3"
  },
  "language_info": {
   "codemirror_mode": {
    "name": "ipython",
    "version": 3
   },
   "file_extension": ".py",
   "mimetype": "text/x-python",
   "name": "python",
   "nbconvert_exporter": "python",
   "pygments_lexer": "ipython3",
   "version": "3.7.9"
  }
 },
 "nbformat": 4,
 "nbformat_minor": 4
}
